{
  "nbformat": 4,
  "nbformat_minor": 0,
  "metadata": {
    "colab": {
      "provenance": []
    },
    "kernelspec": {
      "name": "python3",
      "display_name": "Python 3"
    },
    "language_info": {
      "name": "python"
    }
  },
  "cells": [
    {
      "cell_type": "markdown",
      "source": [
        "Predict Health Insurance Owners' who will be interested in Vehicle Insurance"
      ],
      "metadata": {
        "id": "uE0ouLtbVrvU"
      }
    },
    {
      "cell_type": "code",
      "source": [
        "#Importing Libraries\n",
        "\n",
        "import numpy as np\n",
        "import pandas as pd\n",
        "import matplotlib.pyplot as plt\n",
        "import pickle\n",
        "import sklearn\n",
        "import seaborn as sns"
      ],
      "metadata": {
        "id": "8g2ZHmuRVwU5"
      },
      "execution_count": 3,
      "outputs": []
    },
    {
      "cell_type": "code",
      "source": [
        "#Importing the dataset\n",
        "\n",
        "data = pd.read_csv('/content/train.csv')\n"
      ],
      "metadata": {
        "id": "UuFXHLQ-W26D"
      },
      "execution_count": 9,
      "outputs": []
    },
    {
      "cell_type": "code",
      "source": [
        "new_data = data.iloc[:5000,:]"
      ],
      "metadata": {
        "id": "hKPBib69h4SI"
      },
      "execution_count": 8,
      "outputs": []
    },
    {
      "cell_type": "code",
      "source": [
        "new_data"
      ],
      "metadata": {
        "colab": {
          "base_uri": "https://localhost:8080/",
          "height": 443
        },
        "id": "KcGBuuUDiOyt",
        "outputId": "08a7c4c3-ca5c-4403-8384-9ecab9ea7306"
      },
      "execution_count": 10,
      "outputs": [
        {
          "output_type": "execute_result",
          "data": {
            "text/plain": [
              "        id  Gender   Age  Driving_License  Region_Code  Previously_Insured  \\\n",
              "0        1    Male  44.0              1.0         28.0                 0.0   \n",
              "1        2    Male  76.0              1.0          3.0                 0.0   \n",
              "2        3    Male  47.0              1.0         28.0                 0.0   \n",
              "3        4    Male  21.0              1.0         11.0                 1.0   \n",
              "4        5  Female  29.0              1.0         41.0                 1.0   \n",
              "...    ...     ...   ...              ...          ...                 ...   \n",
              "4995  4996    Male  36.0              1.0          8.0                 0.0   \n",
              "4996  4997    Male  44.0              1.0         10.0                 0.0   \n",
              "4997  4998    Male  58.0              1.0         28.0                 0.0   \n",
              "4998  4999    Male  31.0              1.0         28.0                 1.0   \n",
              "4999  5000    Male  63.0              1.0          2.0                 1.0   \n",
              "\n",
              "     Vehicle_Age Vehicle_Damage  Annual_Premium  Policy_Sales_Channel  \\\n",
              "0      > 2 Years            Yes         40454.0                  26.0   \n",
              "1       1-2 Year             No         33536.0                  26.0   \n",
              "2      > 2 Years            Yes         38294.0                  26.0   \n",
              "3       < 1 Year             No         28619.0                 152.0   \n",
              "4       < 1 Year             No         27496.0                 152.0   \n",
              "...          ...            ...             ...                   ...   \n",
              "4995   > 2 Years            Yes         40278.0                 124.0   \n",
              "4996    1-2 Year            Yes         27438.0                 124.0   \n",
              "4997    1-2 Year            Yes         50889.0                  26.0   \n",
              "4998    1-2 Year             No         36457.0                 124.0   \n",
              "4999    1-2 Year             No         30791.0                  26.0   \n",
              "\n",
              "      Vintage  Response  \n",
              "0       217.0       1.0  \n",
              "1       183.0       0.0  \n",
              "2        27.0       1.0  \n",
              "3       203.0       0.0  \n",
              "4        39.0       0.0  \n",
              "...       ...       ...  \n",
              "4995     62.0       0.0  \n",
              "4996    208.0       1.0  \n",
              "4997    105.0       0.0  \n",
              "4998     75.0       0.0  \n",
              "4999     40.0       0.0  \n",
              "\n",
              "[5000 rows x 12 columns]"
            ],
            "text/html": [
              "\n",
              "  <div id=\"df-93b3f2a6-6acb-4bc9-b5a8-28e9ae82ff3e\" class=\"colab-df-container\">\n",
              "    <div>\n",
              "<style scoped>\n",
              "    .dataframe tbody tr th:only-of-type {\n",
              "        vertical-align: middle;\n",
              "    }\n",
              "\n",
              "    .dataframe tbody tr th {\n",
              "        vertical-align: top;\n",
              "    }\n",
              "\n",
              "    .dataframe thead th {\n",
              "        text-align: right;\n",
              "    }\n",
              "</style>\n",
              "<table border=\"1\" class=\"dataframe\">\n",
              "  <thead>\n",
              "    <tr style=\"text-align: right;\">\n",
              "      <th></th>\n",
              "      <th>id</th>\n",
              "      <th>Gender</th>\n",
              "      <th>Age</th>\n",
              "      <th>Driving_License</th>\n",
              "      <th>Region_Code</th>\n",
              "      <th>Previously_Insured</th>\n",
              "      <th>Vehicle_Age</th>\n",
              "      <th>Vehicle_Damage</th>\n",
              "      <th>Annual_Premium</th>\n",
              "      <th>Policy_Sales_Channel</th>\n",
              "      <th>Vintage</th>\n",
              "      <th>Response</th>\n",
              "    </tr>\n",
              "  </thead>\n",
              "  <tbody>\n",
              "    <tr>\n",
              "      <th>0</th>\n",
              "      <td>1</td>\n",
              "      <td>Male</td>\n",
              "      <td>44.0</td>\n",
              "      <td>1.0</td>\n",
              "      <td>28.0</td>\n",
              "      <td>0.0</td>\n",
              "      <td>&gt; 2 Years</td>\n",
              "      <td>Yes</td>\n",
              "      <td>40454.0</td>\n",
              "      <td>26.0</td>\n",
              "      <td>217.0</td>\n",
              "      <td>1.0</td>\n",
              "    </tr>\n",
              "    <tr>\n",
              "      <th>1</th>\n",
              "      <td>2</td>\n",
              "      <td>Male</td>\n",
              "      <td>76.0</td>\n",
              "      <td>1.0</td>\n",
              "      <td>3.0</td>\n",
              "      <td>0.0</td>\n",
              "      <td>1-2 Year</td>\n",
              "      <td>No</td>\n",
              "      <td>33536.0</td>\n",
              "      <td>26.0</td>\n",
              "      <td>183.0</td>\n",
              "      <td>0.0</td>\n",
              "    </tr>\n",
              "    <tr>\n",
              "      <th>2</th>\n",
              "      <td>3</td>\n",
              "      <td>Male</td>\n",
              "      <td>47.0</td>\n",
              "      <td>1.0</td>\n",
              "      <td>28.0</td>\n",
              "      <td>0.0</td>\n",
              "      <td>&gt; 2 Years</td>\n",
              "      <td>Yes</td>\n",
              "      <td>38294.0</td>\n",
              "      <td>26.0</td>\n",
              "      <td>27.0</td>\n",
              "      <td>1.0</td>\n",
              "    </tr>\n",
              "    <tr>\n",
              "      <th>3</th>\n",
              "      <td>4</td>\n",
              "      <td>Male</td>\n",
              "      <td>21.0</td>\n",
              "      <td>1.0</td>\n",
              "      <td>11.0</td>\n",
              "      <td>1.0</td>\n",
              "      <td>&lt; 1 Year</td>\n",
              "      <td>No</td>\n",
              "      <td>28619.0</td>\n",
              "      <td>152.0</td>\n",
              "      <td>203.0</td>\n",
              "      <td>0.0</td>\n",
              "    </tr>\n",
              "    <tr>\n",
              "      <th>4</th>\n",
              "      <td>5</td>\n",
              "      <td>Female</td>\n",
              "      <td>29.0</td>\n",
              "      <td>1.0</td>\n",
              "      <td>41.0</td>\n",
              "      <td>1.0</td>\n",
              "      <td>&lt; 1 Year</td>\n",
              "      <td>No</td>\n",
              "      <td>27496.0</td>\n",
              "      <td>152.0</td>\n",
              "      <td>39.0</td>\n",
              "      <td>0.0</td>\n",
              "    </tr>\n",
              "    <tr>\n",
              "      <th>...</th>\n",
              "      <td>...</td>\n",
              "      <td>...</td>\n",
              "      <td>...</td>\n",
              "      <td>...</td>\n",
              "      <td>...</td>\n",
              "      <td>...</td>\n",
              "      <td>...</td>\n",
              "      <td>...</td>\n",
              "      <td>...</td>\n",
              "      <td>...</td>\n",
              "      <td>...</td>\n",
              "      <td>...</td>\n",
              "    </tr>\n",
              "    <tr>\n",
              "      <th>4995</th>\n",
              "      <td>4996</td>\n",
              "      <td>Male</td>\n",
              "      <td>36.0</td>\n",
              "      <td>1.0</td>\n",
              "      <td>8.0</td>\n",
              "      <td>0.0</td>\n",
              "      <td>&gt; 2 Years</td>\n",
              "      <td>Yes</td>\n",
              "      <td>40278.0</td>\n",
              "      <td>124.0</td>\n",
              "      <td>62.0</td>\n",
              "      <td>0.0</td>\n",
              "    </tr>\n",
              "    <tr>\n",
              "      <th>4996</th>\n",
              "      <td>4997</td>\n",
              "      <td>Male</td>\n",
              "      <td>44.0</td>\n",
              "      <td>1.0</td>\n",
              "      <td>10.0</td>\n",
              "      <td>0.0</td>\n",
              "      <td>1-2 Year</td>\n",
              "      <td>Yes</td>\n",
              "      <td>27438.0</td>\n",
              "      <td>124.0</td>\n",
              "      <td>208.0</td>\n",
              "      <td>1.0</td>\n",
              "    </tr>\n",
              "    <tr>\n",
              "      <th>4997</th>\n",
              "      <td>4998</td>\n",
              "      <td>Male</td>\n",
              "      <td>58.0</td>\n",
              "      <td>1.0</td>\n",
              "      <td>28.0</td>\n",
              "      <td>0.0</td>\n",
              "      <td>1-2 Year</td>\n",
              "      <td>Yes</td>\n",
              "      <td>50889.0</td>\n",
              "      <td>26.0</td>\n",
              "      <td>105.0</td>\n",
              "      <td>0.0</td>\n",
              "    </tr>\n",
              "    <tr>\n",
              "      <th>4998</th>\n",
              "      <td>4999</td>\n",
              "      <td>Male</td>\n",
              "      <td>31.0</td>\n",
              "      <td>1.0</td>\n",
              "      <td>28.0</td>\n",
              "      <td>1.0</td>\n",
              "      <td>1-2 Year</td>\n",
              "      <td>No</td>\n",
              "      <td>36457.0</td>\n",
              "      <td>124.0</td>\n",
              "      <td>75.0</td>\n",
              "      <td>0.0</td>\n",
              "    </tr>\n",
              "    <tr>\n",
              "      <th>4999</th>\n",
              "      <td>5000</td>\n",
              "      <td>Male</td>\n",
              "      <td>63.0</td>\n",
              "      <td>1.0</td>\n",
              "      <td>2.0</td>\n",
              "      <td>1.0</td>\n",
              "      <td>1-2 Year</td>\n",
              "      <td>No</td>\n",
              "      <td>30791.0</td>\n",
              "      <td>26.0</td>\n",
              "      <td>40.0</td>\n",
              "      <td>0.0</td>\n",
              "    </tr>\n",
              "  </tbody>\n",
              "</table>\n",
              "<p>5000 rows × 12 columns</p>\n",
              "</div>\n",
              "    <div class=\"colab-df-buttons\">\n",
              "\n",
              "  <div class=\"colab-df-container\">\n",
              "    <button class=\"colab-df-convert\" onclick=\"convertToInteractive('df-93b3f2a6-6acb-4bc9-b5a8-28e9ae82ff3e')\"\n",
              "            title=\"Convert this dataframe to an interactive table.\"\n",
              "            style=\"display:none;\">\n",
              "\n",
              "  <svg xmlns=\"http://www.w3.org/2000/svg\" height=\"24px\" viewBox=\"0 -960 960 960\">\n",
              "    <path d=\"M120-120v-720h720v720H120Zm60-500h600v-160H180v160Zm220 220h160v-160H400v160Zm0 220h160v-160H400v160ZM180-400h160v-160H180v160Zm440 0h160v-160H620v160ZM180-180h160v-160H180v160Zm440 0h160v-160H620v160Z\"/>\n",
              "  </svg>\n",
              "    </button>\n",
              "\n",
              "  <style>\n",
              "    .colab-df-container {\n",
              "      display:flex;\n",
              "      gap: 12px;\n",
              "    }\n",
              "\n",
              "    .colab-df-convert {\n",
              "      background-color: #E8F0FE;\n",
              "      border: none;\n",
              "      border-radius: 50%;\n",
              "      cursor: pointer;\n",
              "      display: none;\n",
              "      fill: #1967D2;\n",
              "      height: 32px;\n",
              "      padding: 0 0 0 0;\n",
              "      width: 32px;\n",
              "    }\n",
              "\n",
              "    .colab-df-convert:hover {\n",
              "      background-color: #E2EBFA;\n",
              "      box-shadow: 0px 1px 2px rgba(60, 64, 67, 0.3), 0px 1px 3px 1px rgba(60, 64, 67, 0.15);\n",
              "      fill: #174EA6;\n",
              "    }\n",
              "\n",
              "    .colab-df-buttons div {\n",
              "      margin-bottom: 4px;\n",
              "    }\n",
              "\n",
              "    [theme=dark] .colab-df-convert {\n",
              "      background-color: #3B4455;\n",
              "      fill: #D2E3FC;\n",
              "    }\n",
              "\n",
              "    [theme=dark] .colab-df-convert:hover {\n",
              "      background-color: #434B5C;\n",
              "      box-shadow: 0px 1px 3px 1px rgba(0, 0, 0, 0.15);\n",
              "      filter: drop-shadow(0px 1px 2px rgba(0, 0, 0, 0.3));\n",
              "      fill: #FFFFFF;\n",
              "    }\n",
              "  </style>\n",
              "\n",
              "    <script>\n",
              "      const buttonEl =\n",
              "        document.querySelector('#df-93b3f2a6-6acb-4bc9-b5a8-28e9ae82ff3e button.colab-df-convert');\n",
              "      buttonEl.style.display =\n",
              "        google.colab.kernel.accessAllowed ? 'block' : 'none';\n",
              "\n",
              "      async function convertToInteractive(key) {\n",
              "        const element = document.querySelector('#df-93b3f2a6-6acb-4bc9-b5a8-28e9ae82ff3e');\n",
              "        const dataTable =\n",
              "          await google.colab.kernel.invokeFunction('convertToInteractive',\n",
              "                                                    [key], {});\n",
              "        if (!dataTable) return;\n",
              "\n",
              "        const docLinkHtml = 'Like what you see? Visit the ' +\n",
              "          '<a target=\"_blank\" href=https://colab.research.google.com/notebooks/data_table.ipynb>data table notebook</a>'\n",
              "          + ' to learn more about interactive tables.';\n",
              "        element.innerHTML = '';\n",
              "        dataTable['output_type'] = 'display_data';\n",
              "        await google.colab.output.renderOutput(dataTable, element);\n",
              "        const docLink = document.createElement('div');\n",
              "        docLink.innerHTML = docLinkHtml;\n",
              "        element.appendChild(docLink);\n",
              "      }\n",
              "    </script>\n",
              "  </div>\n",
              "\n",
              "\n",
              "<div id=\"df-292a25e6-97f6-438c-b8bb-b1b5b8296c6a\">\n",
              "  <button class=\"colab-df-quickchart\" onclick=\"quickchart('df-292a25e6-97f6-438c-b8bb-b1b5b8296c6a')\"\n",
              "            title=\"Suggest charts\"\n",
              "            style=\"display:none;\">\n",
              "\n",
              "<svg xmlns=\"http://www.w3.org/2000/svg\" height=\"24px\"viewBox=\"0 0 24 24\"\n",
              "     width=\"24px\">\n",
              "    <g>\n",
              "        <path d=\"M19 3H5c-1.1 0-2 .9-2 2v14c0 1.1.9 2 2 2h14c1.1 0 2-.9 2-2V5c0-1.1-.9-2-2-2zM9 17H7v-7h2v7zm4 0h-2V7h2v10zm4 0h-2v-4h2v4z\"/>\n",
              "    </g>\n",
              "</svg>\n",
              "  </button>\n",
              "\n",
              "<style>\n",
              "  .colab-df-quickchart {\n",
              "      --bg-color: #E8F0FE;\n",
              "      --fill-color: #1967D2;\n",
              "      --hover-bg-color: #E2EBFA;\n",
              "      --hover-fill-color: #174EA6;\n",
              "      --disabled-fill-color: #AAA;\n",
              "      --disabled-bg-color: #DDD;\n",
              "  }\n",
              "\n",
              "  [theme=dark] .colab-df-quickchart {\n",
              "      --bg-color: #3B4455;\n",
              "      --fill-color: #D2E3FC;\n",
              "      --hover-bg-color: #434B5C;\n",
              "      --hover-fill-color: #FFFFFF;\n",
              "      --disabled-bg-color: #3B4455;\n",
              "      --disabled-fill-color: #666;\n",
              "  }\n",
              "\n",
              "  .colab-df-quickchart {\n",
              "    background-color: var(--bg-color);\n",
              "    border: none;\n",
              "    border-radius: 50%;\n",
              "    cursor: pointer;\n",
              "    display: none;\n",
              "    fill: var(--fill-color);\n",
              "    height: 32px;\n",
              "    padding: 0;\n",
              "    width: 32px;\n",
              "  }\n",
              "\n",
              "  .colab-df-quickchart:hover {\n",
              "    background-color: var(--hover-bg-color);\n",
              "    box-shadow: 0 1px 2px rgba(60, 64, 67, 0.3), 0 1px 3px 1px rgba(60, 64, 67, 0.15);\n",
              "    fill: var(--button-hover-fill-color);\n",
              "  }\n",
              "\n",
              "  .colab-df-quickchart-complete:disabled,\n",
              "  .colab-df-quickchart-complete:disabled:hover {\n",
              "    background-color: var(--disabled-bg-color);\n",
              "    fill: var(--disabled-fill-color);\n",
              "    box-shadow: none;\n",
              "  }\n",
              "\n",
              "  .colab-df-spinner {\n",
              "    border: 2px solid var(--fill-color);\n",
              "    border-color: transparent;\n",
              "    border-bottom-color: var(--fill-color);\n",
              "    animation:\n",
              "      spin 1s steps(1) infinite;\n",
              "  }\n",
              "\n",
              "  @keyframes spin {\n",
              "    0% {\n",
              "      border-color: transparent;\n",
              "      border-bottom-color: var(--fill-color);\n",
              "      border-left-color: var(--fill-color);\n",
              "    }\n",
              "    20% {\n",
              "      border-color: transparent;\n",
              "      border-left-color: var(--fill-color);\n",
              "      border-top-color: var(--fill-color);\n",
              "    }\n",
              "    30% {\n",
              "      border-color: transparent;\n",
              "      border-left-color: var(--fill-color);\n",
              "      border-top-color: var(--fill-color);\n",
              "      border-right-color: var(--fill-color);\n",
              "    }\n",
              "    40% {\n",
              "      border-color: transparent;\n",
              "      border-right-color: var(--fill-color);\n",
              "      border-top-color: var(--fill-color);\n",
              "    }\n",
              "    60% {\n",
              "      border-color: transparent;\n",
              "      border-right-color: var(--fill-color);\n",
              "    }\n",
              "    80% {\n",
              "      border-color: transparent;\n",
              "      border-right-color: var(--fill-color);\n",
              "      border-bottom-color: var(--fill-color);\n",
              "    }\n",
              "    90% {\n",
              "      border-color: transparent;\n",
              "      border-bottom-color: var(--fill-color);\n",
              "    }\n",
              "  }\n",
              "</style>\n",
              "\n",
              "  <script>\n",
              "    async function quickchart(key) {\n",
              "      const quickchartButtonEl =\n",
              "        document.querySelector('#' + key + ' button');\n",
              "      quickchartButtonEl.disabled = true;  // To prevent multiple clicks.\n",
              "      quickchartButtonEl.classList.add('colab-df-spinner');\n",
              "      try {\n",
              "        const charts = await google.colab.kernel.invokeFunction(\n",
              "            'suggestCharts', [key], {});\n",
              "      } catch (error) {\n",
              "        console.error('Error during call to suggestCharts:', error);\n",
              "      }\n",
              "      quickchartButtonEl.classList.remove('colab-df-spinner');\n",
              "      quickchartButtonEl.classList.add('colab-df-quickchart-complete');\n",
              "    }\n",
              "    (() => {\n",
              "      let quickchartButtonEl =\n",
              "        document.querySelector('#df-292a25e6-97f6-438c-b8bb-b1b5b8296c6a button');\n",
              "      quickchartButtonEl.style.display =\n",
              "        google.colab.kernel.accessAllowed ? 'block' : 'none';\n",
              "    })();\n",
              "  </script>\n",
              "</div>\n",
              "    </div>\n",
              "  </div>\n"
            ]
          },
          "metadata": {},
          "execution_count": 10
        }
      ]
    },
    {
      "cell_type": "markdown",
      "source": [
        "Data Preprocessing"
      ],
      "metadata": {
        "id": "XpsqWH03kBNv"
      }
    },
    {
      "cell_type": "code",
      "source": [
        "#Handling missing values\n",
        "\n",
        "new_data.info()"
      ],
      "metadata": {
        "colab": {
          "base_uri": "https://localhost:8080/"
        },
        "id": "0euUEqj2iztJ",
        "outputId": "b7357576-2f82-4992-b102-59c6a3491dc7"
      },
      "execution_count": 12,
      "outputs": [
        {
          "output_type": "stream",
          "name": "stdout",
          "text": [
            "<class 'pandas.core.frame.DataFrame'>\n",
            "RangeIndex: 5000 entries, 0 to 4999\n",
            "Data columns (total 12 columns):\n",
            " #   Column                Non-Null Count  Dtype  \n",
            "---  ------                --------------  -----  \n",
            " 0   id                    5000 non-null   int64  \n",
            " 1   Gender                5000 non-null   object \n",
            " 2   Age                   5000 non-null   float64\n",
            " 3   Driving_License       5000 non-null   float64\n",
            " 4   Region_Code           5000 non-null   float64\n",
            " 5   Previously_Insured    5000 non-null   float64\n",
            " 6   Vehicle_Age           5000 non-null   object \n",
            " 7   Vehicle_Damage        5000 non-null   object \n",
            " 8   Annual_Premium        5000 non-null   float64\n",
            " 9   Policy_Sales_Channel  5000 non-null   float64\n",
            " 10  Vintage               5000 non-null   float64\n",
            " 11  Response              5000 non-null   float64\n",
            "dtypes: float64(8), int64(1), object(3)\n",
            "memory usage: 468.9+ KB\n"
          ]
        }
      ]
    },
    {
      "cell_type": "code",
      "source": [
        "#Checking for null values\n",
        "\n",
        "new_data.isnull().sum()"
      ],
      "metadata": {
        "colab": {
          "base_uri": "https://localhost:8080/"
        },
        "id": "YB8c2eHvkHkN",
        "outputId": "a2d402f3-43e7-4f2c-c36d-4a1d6089dc30"
      },
      "execution_count": 13,
      "outputs": [
        {
          "output_type": "execute_result",
          "data": {
            "text/plain": [
              "id                      0\n",
              "Gender                  0\n",
              "Age                     0\n",
              "Driving_License         0\n",
              "Region_Code             0\n",
              "Previously_Insured      0\n",
              "Vehicle_Age             0\n",
              "Vehicle_Damage          0\n",
              "Annual_Premium          0\n",
              "Policy_Sales_Channel    0\n",
              "Vintage                 0\n",
              "Response                0\n",
              "dtype: int64"
            ]
          },
          "metadata": {},
          "execution_count": 13
        }
      ]
    },
    {
      "cell_type": "code",
      "source": [
        "#splitting the data into X and Y\n",
        "\n",
        "X = new_data.iloc[:,:-1].values\n",
        "Y = new_data.iloc[:,-1].values"
      ],
      "metadata": {
        "id": "q-ykVWmQkhta"
      },
      "execution_count": 14,
      "outputs": []
    },
    {
      "cell_type": "markdown",
      "source": [
        "Handling Categorical values\n"
      ],
      "metadata": {
        "id": "rbwOFj0DlvF9"
      }
    },
    {
      "cell_type": "code",
      "source": [
        "#converting male, female to 0 and 1\n",
        "\n",
        "from sklearn.preprocessing import LabelEncoder\n",
        "le = LabelEncoder()\n",
        "X[:, 1] = le.fit_transform(X[:,1])"
      ],
      "metadata": {
        "id": "xjVK9KEUlskE"
      },
      "execution_count": 15,
      "outputs": []
    },
    {
      "cell_type": "code",
      "source": [
        "new_data['Vehicle_Age'].unique()"
      ],
      "metadata": {
        "colab": {
          "base_uri": "https://localhost:8080/"
        },
        "id": "QmzB7NdEmijc",
        "outputId": "cd5728ad-d08c-4b22-9114-e5a43a1a6507"
      },
      "execution_count": 17,
      "outputs": [
        {
          "output_type": "execute_result",
          "data": {
            "text/plain": [
              "array(['> 2 Years', '1-2 Year', '< 1 Year'], dtype=object)"
            ]
          },
          "metadata": {},
          "execution_count": 17
        }
      ]
    },
    {
      "cell_type": "code",
      "source": [
        "X[:, 6] = le.fit_transform(X[:, 6])"
      ],
      "metadata": {
        "id": "KeMHuwflm03c"
      },
      "execution_count": 18,
      "outputs": []
    },
    {
      "cell_type": "code",
      "source": [
        "X[:, 7] = le.fit_transform(X[:, 7])"
      ],
      "metadata": {
        "id": "DOrSIiK8nOtE"
      },
      "execution_count": 19,
      "outputs": []
    },
    {
      "cell_type": "code",
      "source": [
        "X"
      ],
      "metadata": {
        "colab": {
          "base_uri": "https://localhost:8080/"
        },
        "id": "PkFwTGF6nX4C",
        "outputId": "fe38f107-de0a-42f3-d872-ac1e9ef0fc2a"
      },
      "execution_count": 20,
      "outputs": [
        {
          "output_type": "execute_result",
          "data": {
            "text/plain": [
              "array([[1, 1, 44.0, ..., 40454.0, 26.0, 217.0],\n",
              "       [2, 1, 76.0, ..., 33536.0, 26.0, 183.0],\n",
              "       [3, 1, 47.0, ..., 38294.0, 26.0, 27.0],\n",
              "       ...,\n",
              "       [4998, 1, 58.0, ..., 50889.0, 26.0, 105.0],\n",
              "       [4999, 1, 31.0, ..., 36457.0, 124.0, 75.0],\n",
              "       [5000, 1, 63.0, ..., 30791.0, 26.0, 40.0]], dtype=object)"
            ]
          },
          "metadata": {},
          "execution_count": 20
        }
      ]
    },
    {
      "cell_type": "code",
      "source": [
        "Y"
      ],
      "metadata": {
        "colab": {
          "base_uri": "https://localhost:8080/"
        },
        "id": "-pFdv8YXngrf",
        "outputId": "4752dc1a-af5c-4b04-80e3-853395791f9a"
      },
      "execution_count": 21,
      "outputs": [
        {
          "output_type": "execute_result",
          "data": {
            "text/plain": [
              "array([1., 0., 1., ..., 0., 0., 0.])"
            ]
          },
          "metadata": {},
          "execution_count": 21
        }
      ]
    },
    {
      "cell_type": "markdown",
      "source": [
        "Exploratory Data Analysis"
      ],
      "metadata": {
        "id": "XD-YS7VhnmO0"
      }
    },
    {
      "cell_type": "code",
      "source": [
        "new_data.describe()"
      ],
      "metadata": {
        "colab": {
          "base_uri": "https://localhost:8080/",
          "height": 320
        },
        "id": "Jc4BVippnjIu",
        "outputId": "de87362f-990c-404a-9fe9-9091677aa555"
      },
      "execution_count": 23,
      "outputs": [
        {
          "output_type": "execute_result",
          "data": {
            "text/plain": [
              "                id         Age  Driving_License  Region_Code  \\\n",
              "count  5000.000000  5000.00000      5000.000000  5000.000000   \n",
              "mean   2500.500000    38.68200         0.997800    26.201000   \n",
              "std    1443.520003    15.47505         0.046857    13.173918   \n",
              "min       1.000000    20.00000         0.000000     0.000000   \n",
              "25%    1250.750000    24.00000         1.000000    15.000000   \n",
              "50%    2500.500000    36.00000         1.000000    28.000000   \n",
              "75%    3750.250000    49.00000         1.000000    35.000000   \n",
              "max    5000.000000    84.00000         1.000000    52.000000   \n",
              "\n",
              "       Previously_Insured  Annual_Premium  Policy_Sales_Channel      Vintage  \\\n",
              "count         5000.000000     5000.000000           5000.000000  5000.000000   \n",
              "mean             0.441600    30929.683400            112.909600   156.145600   \n",
              "std              0.496627    16732.411341             53.607076    83.681385   \n",
              "min              0.000000     2630.000000              1.000000    10.000000   \n",
              "25%              0.000000    24814.000000             40.750000    85.000000   \n",
              "50%              0.000000    31967.000000            136.000000   156.000000   \n",
              "75%              1.000000    39816.000000            152.000000   229.000000   \n",
              "max              1.000000   267698.000000            163.000000   299.000000   \n",
              "\n",
              "          Response  \n",
              "count  5000.000000  \n",
              "mean      0.123800  \n",
              "std       0.329386  \n",
              "min       0.000000  \n",
              "25%       0.000000  \n",
              "50%       0.000000  \n",
              "75%       0.000000  \n",
              "max       1.000000  "
            ],
            "text/html": [
              "\n",
              "  <div id=\"df-45407d13-f01e-44de-94cd-165da1bcd3f8\" class=\"colab-df-container\">\n",
              "    <div>\n",
              "<style scoped>\n",
              "    .dataframe tbody tr th:only-of-type {\n",
              "        vertical-align: middle;\n",
              "    }\n",
              "\n",
              "    .dataframe tbody tr th {\n",
              "        vertical-align: top;\n",
              "    }\n",
              "\n",
              "    .dataframe thead th {\n",
              "        text-align: right;\n",
              "    }\n",
              "</style>\n",
              "<table border=\"1\" class=\"dataframe\">\n",
              "  <thead>\n",
              "    <tr style=\"text-align: right;\">\n",
              "      <th></th>\n",
              "      <th>id</th>\n",
              "      <th>Age</th>\n",
              "      <th>Driving_License</th>\n",
              "      <th>Region_Code</th>\n",
              "      <th>Previously_Insured</th>\n",
              "      <th>Annual_Premium</th>\n",
              "      <th>Policy_Sales_Channel</th>\n",
              "      <th>Vintage</th>\n",
              "      <th>Response</th>\n",
              "    </tr>\n",
              "  </thead>\n",
              "  <tbody>\n",
              "    <tr>\n",
              "      <th>count</th>\n",
              "      <td>5000.000000</td>\n",
              "      <td>5000.00000</td>\n",
              "      <td>5000.000000</td>\n",
              "      <td>5000.000000</td>\n",
              "      <td>5000.000000</td>\n",
              "      <td>5000.000000</td>\n",
              "      <td>5000.000000</td>\n",
              "      <td>5000.000000</td>\n",
              "      <td>5000.000000</td>\n",
              "    </tr>\n",
              "    <tr>\n",
              "      <th>mean</th>\n",
              "      <td>2500.500000</td>\n",
              "      <td>38.68200</td>\n",
              "      <td>0.997800</td>\n",
              "      <td>26.201000</td>\n",
              "      <td>0.441600</td>\n",
              "      <td>30929.683400</td>\n",
              "      <td>112.909600</td>\n",
              "      <td>156.145600</td>\n",
              "      <td>0.123800</td>\n",
              "    </tr>\n",
              "    <tr>\n",
              "      <th>std</th>\n",
              "      <td>1443.520003</td>\n",
              "      <td>15.47505</td>\n",
              "      <td>0.046857</td>\n",
              "      <td>13.173918</td>\n",
              "      <td>0.496627</td>\n",
              "      <td>16732.411341</td>\n",
              "      <td>53.607076</td>\n",
              "      <td>83.681385</td>\n",
              "      <td>0.329386</td>\n",
              "    </tr>\n",
              "    <tr>\n",
              "      <th>min</th>\n",
              "      <td>1.000000</td>\n",
              "      <td>20.00000</td>\n",
              "      <td>0.000000</td>\n",
              "      <td>0.000000</td>\n",
              "      <td>0.000000</td>\n",
              "      <td>2630.000000</td>\n",
              "      <td>1.000000</td>\n",
              "      <td>10.000000</td>\n",
              "      <td>0.000000</td>\n",
              "    </tr>\n",
              "    <tr>\n",
              "      <th>25%</th>\n",
              "      <td>1250.750000</td>\n",
              "      <td>24.00000</td>\n",
              "      <td>1.000000</td>\n",
              "      <td>15.000000</td>\n",
              "      <td>0.000000</td>\n",
              "      <td>24814.000000</td>\n",
              "      <td>40.750000</td>\n",
              "      <td>85.000000</td>\n",
              "      <td>0.000000</td>\n",
              "    </tr>\n",
              "    <tr>\n",
              "      <th>50%</th>\n",
              "      <td>2500.500000</td>\n",
              "      <td>36.00000</td>\n",
              "      <td>1.000000</td>\n",
              "      <td>28.000000</td>\n",
              "      <td>0.000000</td>\n",
              "      <td>31967.000000</td>\n",
              "      <td>136.000000</td>\n",
              "      <td>156.000000</td>\n",
              "      <td>0.000000</td>\n",
              "    </tr>\n",
              "    <tr>\n",
              "      <th>75%</th>\n",
              "      <td>3750.250000</td>\n",
              "      <td>49.00000</td>\n",
              "      <td>1.000000</td>\n",
              "      <td>35.000000</td>\n",
              "      <td>1.000000</td>\n",
              "      <td>39816.000000</td>\n",
              "      <td>152.000000</td>\n",
              "      <td>229.000000</td>\n",
              "      <td>0.000000</td>\n",
              "    </tr>\n",
              "    <tr>\n",
              "      <th>max</th>\n",
              "      <td>5000.000000</td>\n",
              "      <td>84.00000</td>\n",
              "      <td>1.000000</td>\n",
              "      <td>52.000000</td>\n",
              "      <td>1.000000</td>\n",
              "      <td>267698.000000</td>\n",
              "      <td>163.000000</td>\n",
              "      <td>299.000000</td>\n",
              "      <td>1.000000</td>\n",
              "    </tr>\n",
              "  </tbody>\n",
              "</table>\n",
              "</div>\n",
              "    <div class=\"colab-df-buttons\">\n",
              "\n",
              "  <div class=\"colab-df-container\">\n",
              "    <button class=\"colab-df-convert\" onclick=\"convertToInteractive('df-45407d13-f01e-44de-94cd-165da1bcd3f8')\"\n",
              "            title=\"Convert this dataframe to an interactive table.\"\n",
              "            style=\"display:none;\">\n",
              "\n",
              "  <svg xmlns=\"http://www.w3.org/2000/svg\" height=\"24px\" viewBox=\"0 -960 960 960\">\n",
              "    <path d=\"M120-120v-720h720v720H120Zm60-500h600v-160H180v160Zm220 220h160v-160H400v160Zm0 220h160v-160H400v160ZM180-400h160v-160H180v160Zm440 0h160v-160H620v160ZM180-180h160v-160H180v160Zm440 0h160v-160H620v160Z\"/>\n",
              "  </svg>\n",
              "    </button>\n",
              "\n",
              "  <style>\n",
              "    .colab-df-container {\n",
              "      display:flex;\n",
              "      gap: 12px;\n",
              "    }\n",
              "\n",
              "    .colab-df-convert {\n",
              "      background-color: #E8F0FE;\n",
              "      border: none;\n",
              "      border-radius: 50%;\n",
              "      cursor: pointer;\n",
              "      display: none;\n",
              "      fill: #1967D2;\n",
              "      height: 32px;\n",
              "      padding: 0 0 0 0;\n",
              "      width: 32px;\n",
              "    }\n",
              "\n",
              "    .colab-df-convert:hover {\n",
              "      background-color: #E2EBFA;\n",
              "      box-shadow: 0px 1px 2px rgba(60, 64, 67, 0.3), 0px 1px 3px 1px rgba(60, 64, 67, 0.15);\n",
              "      fill: #174EA6;\n",
              "    }\n",
              "\n",
              "    .colab-df-buttons div {\n",
              "      margin-bottom: 4px;\n",
              "    }\n",
              "\n",
              "    [theme=dark] .colab-df-convert {\n",
              "      background-color: #3B4455;\n",
              "      fill: #D2E3FC;\n",
              "    }\n",
              "\n",
              "    [theme=dark] .colab-df-convert:hover {\n",
              "      background-color: #434B5C;\n",
              "      box-shadow: 0px 1px 3px 1px rgba(0, 0, 0, 0.15);\n",
              "      filter: drop-shadow(0px 1px 2px rgba(0, 0, 0, 0.3));\n",
              "      fill: #FFFFFF;\n",
              "    }\n",
              "  </style>\n",
              "\n",
              "    <script>\n",
              "      const buttonEl =\n",
              "        document.querySelector('#df-45407d13-f01e-44de-94cd-165da1bcd3f8 button.colab-df-convert');\n",
              "      buttonEl.style.display =\n",
              "        google.colab.kernel.accessAllowed ? 'block' : 'none';\n",
              "\n",
              "      async function convertToInteractive(key) {\n",
              "        const element = document.querySelector('#df-45407d13-f01e-44de-94cd-165da1bcd3f8');\n",
              "        const dataTable =\n",
              "          await google.colab.kernel.invokeFunction('convertToInteractive',\n",
              "                                                    [key], {});\n",
              "        if (!dataTable) return;\n",
              "\n",
              "        const docLinkHtml = 'Like what you see? Visit the ' +\n",
              "          '<a target=\"_blank\" href=https://colab.research.google.com/notebooks/data_table.ipynb>data table notebook</a>'\n",
              "          + ' to learn more about interactive tables.';\n",
              "        element.innerHTML = '';\n",
              "        dataTable['output_type'] = 'display_data';\n",
              "        await google.colab.output.renderOutput(dataTable, element);\n",
              "        const docLink = document.createElement('div');\n",
              "        docLink.innerHTML = docLinkHtml;\n",
              "        element.appendChild(docLink);\n",
              "      }\n",
              "    </script>\n",
              "  </div>\n",
              "\n",
              "\n",
              "<div id=\"df-4549cf56-06a5-4578-b13b-805b04146a4e\">\n",
              "  <button class=\"colab-df-quickchart\" onclick=\"quickchart('df-4549cf56-06a5-4578-b13b-805b04146a4e')\"\n",
              "            title=\"Suggest charts\"\n",
              "            style=\"display:none;\">\n",
              "\n",
              "<svg xmlns=\"http://www.w3.org/2000/svg\" height=\"24px\"viewBox=\"0 0 24 24\"\n",
              "     width=\"24px\">\n",
              "    <g>\n",
              "        <path d=\"M19 3H5c-1.1 0-2 .9-2 2v14c0 1.1.9 2 2 2h14c1.1 0 2-.9 2-2V5c0-1.1-.9-2-2-2zM9 17H7v-7h2v7zm4 0h-2V7h2v10zm4 0h-2v-4h2v4z\"/>\n",
              "    </g>\n",
              "</svg>\n",
              "  </button>\n",
              "\n",
              "<style>\n",
              "  .colab-df-quickchart {\n",
              "      --bg-color: #E8F0FE;\n",
              "      --fill-color: #1967D2;\n",
              "      --hover-bg-color: #E2EBFA;\n",
              "      --hover-fill-color: #174EA6;\n",
              "      --disabled-fill-color: #AAA;\n",
              "      --disabled-bg-color: #DDD;\n",
              "  }\n",
              "\n",
              "  [theme=dark] .colab-df-quickchart {\n",
              "      --bg-color: #3B4455;\n",
              "      --fill-color: #D2E3FC;\n",
              "      --hover-bg-color: #434B5C;\n",
              "      --hover-fill-color: #FFFFFF;\n",
              "      --disabled-bg-color: #3B4455;\n",
              "      --disabled-fill-color: #666;\n",
              "  }\n",
              "\n",
              "  .colab-df-quickchart {\n",
              "    background-color: var(--bg-color);\n",
              "    border: none;\n",
              "    border-radius: 50%;\n",
              "    cursor: pointer;\n",
              "    display: none;\n",
              "    fill: var(--fill-color);\n",
              "    height: 32px;\n",
              "    padding: 0;\n",
              "    width: 32px;\n",
              "  }\n",
              "\n",
              "  .colab-df-quickchart:hover {\n",
              "    background-color: var(--hover-bg-color);\n",
              "    box-shadow: 0 1px 2px rgba(60, 64, 67, 0.3), 0 1px 3px 1px rgba(60, 64, 67, 0.15);\n",
              "    fill: var(--button-hover-fill-color);\n",
              "  }\n",
              "\n",
              "  .colab-df-quickchart-complete:disabled,\n",
              "  .colab-df-quickchart-complete:disabled:hover {\n",
              "    background-color: var(--disabled-bg-color);\n",
              "    fill: var(--disabled-fill-color);\n",
              "    box-shadow: none;\n",
              "  }\n",
              "\n",
              "  .colab-df-spinner {\n",
              "    border: 2px solid var(--fill-color);\n",
              "    border-color: transparent;\n",
              "    border-bottom-color: var(--fill-color);\n",
              "    animation:\n",
              "      spin 1s steps(1) infinite;\n",
              "  }\n",
              "\n",
              "  @keyframes spin {\n",
              "    0% {\n",
              "      border-color: transparent;\n",
              "      border-bottom-color: var(--fill-color);\n",
              "      border-left-color: var(--fill-color);\n",
              "    }\n",
              "    20% {\n",
              "      border-color: transparent;\n",
              "      border-left-color: var(--fill-color);\n",
              "      border-top-color: var(--fill-color);\n",
              "    }\n",
              "    30% {\n",
              "      border-color: transparent;\n",
              "      border-left-color: var(--fill-color);\n",
              "      border-top-color: var(--fill-color);\n",
              "      border-right-color: var(--fill-color);\n",
              "    }\n",
              "    40% {\n",
              "      border-color: transparent;\n",
              "      border-right-color: var(--fill-color);\n",
              "      border-top-color: var(--fill-color);\n",
              "    }\n",
              "    60% {\n",
              "      border-color: transparent;\n",
              "      border-right-color: var(--fill-color);\n",
              "    }\n",
              "    80% {\n",
              "      border-color: transparent;\n",
              "      border-right-color: var(--fill-color);\n",
              "      border-bottom-color: var(--fill-color);\n",
              "    }\n",
              "    90% {\n",
              "      border-color: transparent;\n",
              "      border-bottom-color: var(--fill-color);\n",
              "    }\n",
              "  }\n",
              "</style>\n",
              "\n",
              "  <script>\n",
              "    async function quickchart(key) {\n",
              "      const quickchartButtonEl =\n",
              "        document.querySelector('#' + key + ' button');\n",
              "      quickchartButtonEl.disabled = true;  // To prevent multiple clicks.\n",
              "      quickchartButtonEl.classList.add('colab-df-spinner');\n",
              "      try {\n",
              "        const charts = await google.colab.kernel.invokeFunction(\n",
              "            'suggestCharts', [key], {});\n",
              "      } catch (error) {\n",
              "        console.error('Error during call to suggestCharts:', error);\n",
              "      }\n",
              "      quickchartButtonEl.classList.remove('colab-df-spinner');\n",
              "      quickchartButtonEl.classList.add('colab-df-quickchart-complete');\n",
              "    }\n",
              "    (() => {\n",
              "      let quickchartButtonEl =\n",
              "        document.querySelector('#df-4549cf56-06a5-4578-b13b-805b04146a4e button');\n",
              "      quickchartButtonEl.style.display =\n",
              "        google.colab.kernel.accessAllowed ? 'block' : 'none';\n",
              "    })();\n",
              "  </script>\n",
              "</div>\n",
              "    </div>\n",
              "  </div>\n"
            ]
          },
          "metadata": {},
          "execution_count": 23
        }
      ]
    },
    {
      "cell_type": "code",
      "source": [
        "#Visual analysis\n",
        "\n",
        "import seaborn as sns\n",
        "\n",
        "plt.figure(figsize=(10,7))\n",
        "sns.heatmap(new_data.corr(), annot = True)\n",
        "plt.show()"
      ],
      "metadata": {
        "colab": {
          "base_uri": "https://localhost:8080/",
          "height": 727
        },
        "id": "rnOcxSQznwuR",
        "outputId": "46c8aeb8-7269-47d7-9728-00e31ec8a82d"
      },
      "execution_count": 24,
      "outputs": [
        {
          "output_type": "stream",
          "name": "stderr",
          "text": [
            "<ipython-input-24-3a45cf132f36>:6: FutureWarning: The default value of numeric_only in DataFrame.corr is deprecated. In a future version, it will default to False. Select only valid columns or specify the value of numeric_only to silence this warning.\n",
            "  sns.heatmap(new_data.corr(), annot = True)\n"
          ]
        },
        {
          "output_type": "display_data",
          "data": {
            "text/plain": [
              "<Figure size 1000x700 with 2 Axes>"
            ],
            "image/png": "[encoded data removed]"
          },
          "metadata": {}
        }
      ]
    },
    {
      "cell_type": "markdown",
      "source": [
        "splitting the data into train and test"
      ],
      "metadata": {
        "id": "r-NDuaiUokB1"
      }
    },
    {
      "cell_type": "code",
      "source": [
        "#splitting the data into train and test\n",
        "\n",
        "from sklearn.model_selection import train_test_split\n",
        "x_train, x_test, y_train, y_test = train_test_split(X, Y, test_size = 0.2, random_state = 1)"
      ],
      "metadata": {
        "id": "Woz3rJtboQCn"
      },
      "execution_count": 25,
      "outputs": []
    },
    {
      "cell_type": "markdown",
      "source": [
        "Scaling the data"
      ],
      "metadata": {
        "id": "ZOyFtD6IpQqF"
      }
    },
    {
      "cell_type": "code",
      "source": [
        "#using standard scaler to scale the data\n",
        "\n",
        "from sklearn.preprocessing import StandardScaler\n",
        "ss = StandardScaler()\n",
        "ss.fit(x_train)\n",
        "std_xtrain = ss.transform(x_train)\n",
        "std_xtest = ss.transform(x_test)"
      ],
      "metadata": {
        "id": "9kOpMvZipOAK"
      },
      "execution_count": 26,
      "outputs": []
    },
    {
      "cell_type": "markdown",
      "source": [
        "Model Training"
      ],
      "metadata": {
        "id": "v1WC3ocfpvtP"
      }
    },
    {
      "cell_type": "code",
      "source": [
        "#Decision Tree Classifier\n",
        "\n",
        "from sklearn.tree import DecisionTreeClassifier\n",
        "dt = DecisionTreeClassifier(random_state = 1)\n",
        "dt.fit(x_train, y_train)\n",
        "dtpreds = dt.predict(x_test)\n",
        "\n",
        "from sklearn.metrics import accuracy_score\n",
        "dtacc = accuracy_score(y_test, dtpreds)\n",
        "dtacc"
      ],
      "metadata": {
        "colab": {
          "base_uri": "https://localhost:8080/"
        },
        "id": "NsYnSs1Apq2M",
        "outputId": "f593fa3e-19e2-4b1f-aad3-980a03b397e4"
      },
      "execution_count": 30,
      "outputs": [
        {
          "output_type": "execute_result",
          "data": {
            "text/plain": [
              "0.811"
            ]
          },
          "metadata": {},
          "execution_count": 30
        }
      ]
    },
    {
      "cell_type": "code",
      "source": [
        "#Random Forest Classifier\n",
        "\n",
        "from sklearn.ensemble import RandomForestClassifier\n",
        "rf = RandomForestClassifier()\n",
        "rf.fit(x_train, y_train)\n",
        "rfpreds = rf.predict(x_test)\n",
        "\n",
        "from sklearn.metrics import accuracy_score\n",
        "rfacc = accuracy_score(y_test, rfpreds)\n",
        "rfacc"
      ],
      "metadata": {
        "colab": {
          "base_uri": "https://localhost:8080/"
        },
        "id": "fNinPe1Eqj-u",
        "outputId": "2b8accc1-0a6a-4d51-cf4f-01c6221cd790"
      },
      "execution_count": 46,
      "outputs": [
        {
          "output_type": "execute_result",
          "data": {
            "text/plain": [
              "0.873"
            ]
          },
          "metadata": {},
          "execution_count": 46
        }
      ]
    },
    {
      "cell_type": "code",
      "source": [
        "#Logistic Regression\n",
        "\n",
        "from sklearn.linear_model import LogisticRegression\n",
        "lr = LogisticRegression()\n",
        "lr.fit(std_xtrain, y_train)\n",
        "lrpreds = lr.predict(std_xtest)\n",
        "\n",
        "from sklearn.metrics import accuracy_score\n",
        "lracc = accuracy_score(y_test, lrpreds)\n",
        "lracc"
      ],
      "metadata": {
        "colab": {
          "base_uri": "https://localhost:8080/"
        },
        "id": "TCv9qocqvYeW",
        "outputId": "a23adad8-1ecf-4935-acfb-172aa82b4a90"
      },
      "execution_count": 47,
      "outputs": [
        {
          "output_type": "execute_result",
          "data": {
            "text/plain": [
              "0.881"
            ]
          },
          "metadata": {},
          "execution_count": 47
        }
      ]
    },
    {
      "cell_type": "code",
      "source": [
        "#KNN classifier\n",
        "\n",
        "from sklearn.neighbors import KNeighborsClassifier\n",
        "knn = KNeighborsClassifier()\n",
        "knn.fit(std_xtrain, y_train)\n",
        "knnpreds = knn.predict(std_xtest)\n",
        "\n",
        "knnacc = accuracy_score(y_test, knnpreds)\n",
        "knnacc"
      ],
      "metadata": {
        "colab": {
          "base_uri": "https://localhost:8080/"
        },
        "id": "6pPVUJOvwDAZ",
        "outputId": "4de60898-1ec6-45a2-8938-6ae0c7daa7d8"
      },
      "execution_count": 48,
      "outputs": [
        {
          "output_type": "execute_result",
          "data": {
            "text/plain": [
              "0.854"
            ]
          },
          "metadata": {},
          "execution_count": 48
        }
      ]
    },
    {
      "cell_type": "code",
      "source": [
        "#Xgboost classifier\n",
        "\n",
        "import xgboost as xgb\n",
        "xgbc = xgb.XGBClassifier(random_state = 1)\n",
        "xgbc.fit(x_train, y_train)\n",
        "xgbpreds = xgbc.predict(x_test)\n",
        "\n",
        "from sklearn.metrics import accuracy_score\n",
        "xgbacc = accuracy_score(y_test, xgbpreds)\n",
        "xgbacc"
      ],
      "metadata": {
        "colab": {
          "base_uri": "https://localhost:8080/"
        },
        "id": "KiKNiLvvsSQM",
        "outputId": "65b23e9a-466d-4bd4-e393-b10d3d1839e9"
      },
      "execution_count": 33,
      "outputs": [
        {
          "output_type": "execute_result",
          "data": {
            "text/plain": [
              "0.859"
            ]
          },
          "metadata": {},
          "execution_count": 33
        }
      ]
    },
    {
      "cell_type": "code",
      "source": [
        "#Artificial Neural Network\n",
        "\n",
        "import tensorflow as tf\n",
        "\n",
        "ann = tf.keras.models.Sequential()\n"
      ],
      "metadata": {
        "id": "an_8J_7QtDVj"
      },
      "execution_count": 34,
      "outputs": []
    },
    {
      "cell_type": "code",
      "source": [
        "ann.add(tf.keras.layers.Dense(units = 100, activation = 'relu'))"
      ],
      "metadata": {
        "id": "3KQiqRp7tdiK"
      },
      "execution_count": 35,
      "outputs": []
    },
    {
      "cell_type": "code",
      "source": [
        "ann.add(tf.keras.layers.Dense(units = 100, activation = 'relu'))"
      ],
      "metadata": {
        "id": "k-0DtFXjtwtV"
      },
      "execution_count": 36,
      "outputs": []
    },
    {
      "cell_type": "code",
      "source": [
        "ann.add(tf.keras.layers.Dense(units = 1, activation = 'sigmoid'))"
      ],
      "metadata": {
        "id": "iKiVQc9Xt3U4"
      },
      "execution_count": 37,
      "outputs": []
    },
    {
      "cell_type": "code",
      "source": [
        "ann.compile(optimizer = 'adam', loss = 'binary_crossentropy', metrics = ['accuracy'])"
      ],
      "metadata": {
        "id": "8Kbss99buCus"
      },
      "execution_count": 38,
      "outputs": []
    },
    {
      "cell_type": "code",
      "source": [
        "X1 = np.asarray(x_train).astype(np.float32)\n",
        "Y1 = np.asarray(y_train).astype(np.float32)"
      ],
      "metadata": {
        "id": "yHZgLUusubmJ"
      },
      "execution_count": 40,
      "outputs": []
    },
    {
      "cell_type": "code",
      "source": [
        "ann.fit(X1, Y1, batch_size = 100, epochs = 100)"
      ],
      "metadata": {
        "colab": {
          "base_uri": "https://localhost:8080/"
        },
        "id": "jrGCNjWmuO1G",
        "outputId": "9b9e0295-2076-49a4-f307-2423b96db48d"
      },
      "execution_count": 41,
      "outputs": [
        {
          "output_type": "stream",
          "name": "stdout",
          "text": [
            "Epoch 1/100\n",
            "40/40 [==============================] - 4s 4ms/step - loss: 158.6541 - accuracy: 0.7785\n",
            "Epoch 2/100\n",
            "40/40 [==============================] - 0s 4ms/step - loss: 55.7548 - accuracy: 0.7742\n",
            "Epoch 3/100\n",
            "40/40 [==============================] - 0s 4ms/step - loss: 43.6490 - accuracy: 0.7997\n",
            "Epoch 4/100\n",
            "40/40 [==============================] - 0s 4ms/step - loss: 26.5380 - accuracy: 0.7828\n",
            "Epoch 5/100\n",
            "40/40 [==============================] - 0s 4ms/step - loss: 18.9561 - accuracy: 0.7645\n",
            "Epoch 6/100\n",
            "40/40 [==============================] - 0s 4ms/step - loss: 20.9168 - accuracy: 0.7795\n",
            "Epoch 7/100\n",
            "40/40 [==============================] - 0s 3ms/step - loss: 18.3951 - accuracy: 0.7940\n",
            "Epoch 8/100\n",
            "40/40 [==============================] - 0s 3ms/step - loss: 15.3347 - accuracy: 0.7795\n",
            "Epoch 9/100\n",
            "40/40 [==============================] - 0s 2ms/step - loss: 16.1488 - accuracy: 0.7895\n",
            "Epoch 10/100\n",
            "40/40 [==============================] - 0s 2ms/step - loss: 19.5364 - accuracy: 0.7820\n",
            "Epoch 11/100\n",
            "40/40 [==============================] - 0s 2ms/step - loss: 17.2584 - accuracy: 0.7688\n",
            "Epoch 12/100\n",
            "40/40 [==============================] - 0s 3ms/step - loss: 19.2060 - accuracy: 0.7933\n",
            "Epoch 13/100\n",
            "40/40 [==============================] - 0s 3ms/step - loss: 26.7351 - accuracy: 0.7483\n",
            "Epoch 14/100\n",
            "40/40 [==============================] - 0s 2ms/step - loss: 38.7565 - accuracy: 0.8058\n",
            "Epoch 15/100\n",
            "40/40 [==============================] - 0s 2ms/step - loss: 19.8307 - accuracy: 0.7870\n",
            "Epoch 16/100\n",
            "40/40 [==============================] - 0s 2ms/step - loss: 24.3916 - accuracy: 0.7820\n",
            "Epoch 17/100\n",
            "40/40 [==============================] - 0s 2ms/step - loss: 41.7371 - accuracy: 0.7822\n",
            "Epoch 18/100\n",
            "40/40 [==============================] - 0s 2ms/step - loss: 14.6105 - accuracy: 0.7897\n",
            "Epoch 19/100\n",
            "40/40 [==============================] - 0s 2ms/step - loss: 12.2437 - accuracy: 0.7820\n",
            "Epoch 20/100\n",
            "40/40 [==============================] - 0s 2ms/step - loss: 13.7966 - accuracy: 0.7830\n",
            "Epoch 21/100\n",
            "40/40 [==============================] - 0s 3ms/step - loss: 38.5465 - accuracy: 0.7937\n",
            "Epoch 22/100\n",
            "40/40 [==============================] - 0s 2ms/step - loss: 22.0882 - accuracy: 0.7678\n",
            "Epoch 23/100\n",
            "40/40 [==============================] - 0s 2ms/step - loss: 15.4395 - accuracy: 0.7865\n",
            "Epoch 24/100\n",
            "40/40 [==============================] - 0s 2ms/step - loss: 14.2548 - accuracy: 0.7810\n",
            "Epoch 25/100\n",
            "40/40 [==============================] - 0s 3ms/step - loss: 14.0166 - accuracy: 0.7950\n",
            "Epoch 26/100\n",
            "40/40 [==============================] - 0s 2ms/step - loss: 12.6386 - accuracy: 0.7930\n",
            "Epoch 27/100\n",
            "40/40 [==============================] - 0s 2ms/step - loss: 14.2928 - accuracy: 0.7868\n",
            "Epoch 28/100\n",
            "40/40 [==============================] - 0s 2ms/step - loss: 6.9711 - accuracy: 0.7872\n",
            "Epoch 29/100\n",
            "40/40 [==============================] - 0s 2ms/step - loss: 11.2270 - accuracy: 0.7797\n",
            "Epoch 30/100\n",
            "40/40 [==============================] - 0s 3ms/step - loss: 13.6195 - accuracy: 0.7977\n",
            "Epoch 31/100\n",
            "40/40 [==============================] - 0s 2ms/step - loss: 14.0470 - accuracy: 0.7897\n",
            "Epoch 32/100\n",
            "40/40 [==============================] - 0s 2ms/step - loss: 10.9001 - accuracy: 0.7922\n",
            "Epoch 33/100\n",
            "40/40 [==============================] - 0s 2ms/step - loss: 13.5629 - accuracy: 0.7872\n",
            "Epoch 34/100\n",
            "40/40 [==============================] - 0s 2ms/step - loss: 13.3319 - accuracy: 0.7933\n",
            "Epoch 35/100\n",
            "40/40 [==============================] - 0s 2ms/step - loss: 10.5582 - accuracy: 0.7897\n",
            "Epoch 36/100\n",
            "40/40 [==============================] - 0s 2ms/step - loss: 19.6479 - accuracy: 0.7912\n",
            "Epoch 37/100\n",
            "40/40 [==============================] - 0s 2ms/step - loss: 14.1564 - accuracy: 0.7675\n",
            "Epoch 38/100\n",
            "40/40 [==============================] - 0s 2ms/step - loss: 12.0899 - accuracy: 0.7985\n",
            "Epoch 39/100\n",
            "40/40 [==============================] - 0s 2ms/step - loss: 10.7290 - accuracy: 0.7750\n",
            "Epoch 40/100\n",
            "40/40 [==============================] - 0s 2ms/step - loss: 10.9110 - accuracy: 0.7900\n",
            "Epoch 41/100\n",
            "40/40 [==============================] - 0s 3ms/step - loss: 6.1023 - accuracy: 0.8048\n",
            "Epoch 42/100\n",
            "40/40 [==============================] - 0s 3ms/step - loss: 11.3836 - accuracy: 0.7815\n",
            "Epoch 43/100\n",
            "40/40 [==============================] - 0s 2ms/step - loss: 22.0452 - accuracy: 0.8035\n",
            "Epoch 44/100\n",
            "40/40 [==============================] - 0s 2ms/step - loss: 10.8073 - accuracy: 0.7895\n",
            "Epoch 45/100\n",
            "40/40 [==============================] - 0s 2ms/step - loss: 11.4476 - accuracy: 0.7853\n",
            "Epoch 46/100\n",
            "40/40 [==============================] - 0s 2ms/step - loss: 8.8799 - accuracy: 0.7937\n",
            "Epoch 47/100\n",
            "40/40 [==============================] - 0s 2ms/step - loss: 10.6129 - accuracy: 0.7753\n",
            "Epoch 48/100\n",
            "40/40 [==============================] - 0s 2ms/step - loss: 11.8132 - accuracy: 0.7887\n",
            "Epoch 49/100\n",
            "40/40 [==============================] - 0s 2ms/step - loss: 9.6732 - accuracy: 0.7960\n",
            "Epoch 50/100\n",
            "40/40 [==============================] - 0s 2ms/step - loss: 7.7922 - accuracy: 0.7785\n",
            "Epoch 51/100\n",
            "40/40 [==============================] - 0s 2ms/step - loss: 11.9055 - accuracy: 0.7828\n",
            "Epoch 52/100\n",
            "40/40 [==============================] - 0s 3ms/step - loss: 4.1844 - accuracy: 0.8140\n",
            "Epoch 53/100\n",
            "40/40 [==============================] - 0s 2ms/step - loss: 11.7214 - accuracy: 0.7840\n",
            "Epoch 54/100\n",
            "40/40 [==============================] - 0s 2ms/step - loss: 5.6274 - accuracy: 0.7962\n",
            "Epoch 55/100\n",
            "40/40 [==============================] - 0s 2ms/step - loss: 8.1775 - accuracy: 0.7815\n",
            "Epoch 56/100\n",
            "40/40 [==============================] - 0s 2ms/step - loss: 9.6714 - accuracy: 0.7950\n",
            "Epoch 57/100\n",
            "40/40 [==============================] - 0s 3ms/step - loss: 12.5662 - accuracy: 0.7697\n",
            "Epoch 58/100\n",
            "40/40 [==============================] - 0s 3ms/step - loss: 10.4536 - accuracy: 0.7872\n",
            "Epoch 59/100\n",
            "40/40 [==============================] - 0s 2ms/step - loss: 13.1507 - accuracy: 0.7958\n",
            "Epoch 60/100\n",
            "40/40 [==============================] - 0s 2ms/step - loss: 3.2920 - accuracy: 0.8035\n",
            "Epoch 61/100\n",
            "40/40 [==============================] - 0s 3ms/step - loss: 9.9431 - accuracy: 0.7937\n",
            "Epoch 62/100\n",
            "40/40 [==============================] - 0s 3ms/step - loss: 5.9988 - accuracy: 0.7990\n",
            "Epoch 63/100\n",
            "40/40 [==============================] - 0s 3ms/step - loss: 8.8199 - accuracy: 0.7862\n",
            "Epoch 64/100\n",
            "40/40 [==============================] - 0s 3ms/step - loss: 11.7694 - accuracy: 0.7878\n",
            "Epoch 65/100\n",
            "40/40 [==============================] - 0s 2ms/step - loss: 12.9591 - accuracy: 0.7965\n",
            "Epoch 66/100\n",
            "40/40 [==============================] - 0s 2ms/step - loss: 27.5566 - accuracy: 0.7715\n",
            "Epoch 67/100\n",
            "40/40 [==============================] - 0s 2ms/step - loss: 22.8593 - accuracy: 0.7970\n",
            "Epoch 68/100\n",
            "40/40 [==============================] - 0s 2ms/step - loss: 4.5963 - accuracy: 0.8005\n",
            "Epoch 69/100\n",
            "40/40 [==============================] - 0s 2ms/step - loss: 6.8489 - accuracy: 0.7880\n",
            "Epoch 70/100\n",
            "40/40 [==============================] - 0s 2ms/step - loss: 8.8334 - accuracy: 0.8052\n",
            "Epoch 71/100\n",
            "40/40 [==============================] - 0s 3ms/step - loss: 9.5120 - accuracy: 0.7797\n",
            "Epoch 72/100\n",
            "40/40 [==============================] - 0s 3ms/step - loss: 6.5673 - accuracy: 0.7943\n",
            "Epoch 73/100\n",
            "40/40 [==============================] - 0s 2ms/step - loss: 6.6790 - accuracy: 0.7990\n",
            "Epoch 74/100\n",
            "40/40 [==============================] - 0s 2ms/step - loss: 9.7252 - accuracy: 0.7945\n",
            "Epoch 75/100\n",
            "40/40 [==============================] - 0s 2ms/step - loss: 16.4236 - accuracy: 0.7772\n",
            "Epoch 76/100\n",
            "40/40 [==============================] - 0s 2ms/step - loss: 8.5250 - accuracy: 0.7785\n",
            "Epoch 77/100\n",
            "40/40 [==============================] - 0s 2ms/step - loss: 5.8999 - accuracy: 0.7975\n",
            "Epoch 78/100\n",
            "40/40 [==============================] - 0s 3ms/step - loss: 6.2706 - accuracy: 0.7928\n",
            "Epoch 79/100\n",
            "40/40 [==============================] - 0s 2ms/step - loss: 7.3799 - accuracy: 0.7850\n",
            "Epoch 80/100\n",
            "40/40 [==============================] - 0s 2ms/step - loss: 8.2854 - accuracy: 0.7883\n",
            "Epoch 81/100\n",
            "40/40 [==============================] - 0s 3ms/step - loss: 6.0129 - accuracy: 0.8100\n",
            "Epoch 82/100\n",
            "40/40 [==============================] - 0s 3ms/step - loss: 8.5073 - accuracy: 0.7960\n",
            "Epoch 83/100\n",
            "40/40 [==============================] - 0s 2ms/step - loss: 4.5898 - accuracy: 0.7885\n",
            "Epoch 84/100\n",
            "40/40 [==============================] - 0s 2ms/step - loss: 7.7893 - accuracy: 0.7828\n",
            "Epoch 85/100\n",
            "40/40 [==============================] - 0s 2ms/step - loss: 7.6275 - accuracy: 0.7933\n",
            "Epoch 86/100\n",
            "40/40 [==============================] - 0s 3ms/step - loss: 4.7264 - accuracy: 0.8067\n",
            "Epoch 87/100\n",
            "40/40 [==============================] - 0s 3ms/step - loss: 3.9507 - accuracy: 0.7990\n",
            "Epoch 88/100\n",
            "40/40 [==============================] - 0s 2ms/step - loss: 6.2503 - accuracy: 0.8010\n",
            "Epoch 89/100\n",
            "40/40 [==============================] - 0s 2ms/step - loss: 5.5147 - accuracy: 0.7893\n",
            "Epoch 90/100\n",
            "40/40 [==============================] - 0s 3ms/step - loss: 7.2619 - accuracy: 0.7952\n",
            "Epoch 91/100\n",
            "40/40 [==============================] - 0s 3ms/step - loss: 7.2538 - accuracy: 0.8033\n",
            "Epoch 92/100\n",
            "40/40 [==============================] - 0s 2ms/step - loss: 6.2495 - accuracy: 0.8000\n",
            "Epoch 93/100\n",
            "40/40 [==============================] - 0s 2ms/step - loss: 7.0792 - accuracy: 0.7887\n",
            "Epoch 94/100\n",
            "40/40 [==============================] - 0s 3ms/step - loss: 6.2257 - accuracy: 0.7930\n",
            "Epoch 95/100\n",
            "40/40 [==============================] - 0s 3ms/step - loss: 7.2158 - accuracy: 0.7962\n",
            "Epoch 96/100\n",
            "40/40 [==============================] - 0s 2ms/step - loss: 6.3042 - accuracy: 0.7895\n",
            "Epoch 97/100\n",
            "40/40 [==============================] - 0s 2ms/step - loss: 7.5476 - accuracy: 0.8062\n",
            "Epoch 98/100\n",
            "40/40 [==============================] - 0s 2ms/step - loss: 23.9119 - accuracy: 0.7803\n",
            "Epoch 99/100\n",
            "40/40 [==============================] - 0s 2ms/step - loss: 6.8828 - accuracy: 0.7837\n",
            "Epoch 100/100\n",
            "40/40 [==============================] - 0s 2ms/step - loss: 3.8113 - accuracy: 0.8077\n"
          ]
        },
        {
          "output_type": "execute_result",
          "data": {
            "text/plain": [
              "<keras.src.callbacks.History at 0x79b7b6fcfee0>"
            ]
          },
          "metadata": {},
          "execution_count": 41
        }
      ]
    },
    {
      "cell_type": "code",
      "source": [
        "import warnings\n",
        "warnings.filterwarnings('ignore')"
      ],
      "metadata": {
        "id": "dkpS-EWr1KLi"
      },
      "execution_count": 55,
      "outputs": []
    },
    {
      "cell_type": "markdown",
      "source": [
        "Tuning the Logistic Regression Model"
      ],
      "metadata": {
        "id": "mvC1rU5hw0zv"
      }
    },
    {
      "cell_type": "code",
      "source": [
        "from sklearn.model_selection import RandomizedSearchCV, StratifiedKFold\n",
        "from sklearn.linear_model import LogisticRegression\n",
        "\n",
        "skf = StratifiedKFold(n_splits = 5)\n",
        "\n",
        "hyper_params = {'LR__penalty':['l1','l2', 'elasticnet', 'none'],\n",
        "                'LR__C':np.linspace(1,10,10),\n",
        "                'LR__l1_ratio':np.linspace(0.001,0.9999,5)}\n",
        "\n",
        "from sklearn.preprocessing import StandardScaler\n",
        "from sklearn.pipeline import Pipeline\n",
        "\n",
        "mysteps = [('ss', StandardScaler()), ('LR', LogisticRegression(random_state = 1, solver = 'saga', max_iter = 1000, tol = 0.001))]\n",
        "\n",
        "m_pipe = Pipeline(steps = mysteps)\n",
        "\n",
        "rcv = RandomizedSearchCV(m_pipe, param_distributions = hyper_params, cv = skf, scoring = 'accuracy')\n",
        "\n",
        "rcv.fit(X, Y)"
      ],
      "metadata": {
        "colab": {
          "base_uri": "https://localhost:8080/",
          "height": 152
        },
        "id": "MVJOCWHGuZtV",
        "outputId": "cf249a66-ff7a-4146-958e-bd651f110ed2"
      },
      "execution_count": 56,
      "outputs": [
        {
          "output_type": "execute_result",
          "data": {
            "text/plain": [
              "RandomizedSearchCV(cv=StratifiedKFold(n_splits=5, random_state=None, shuffle=False),\n",
              "                   estimator=Pipeline(steps=[('ss', StandardScaler()),\n",
              "                                             ('LR',\n",
              "                                              LogisticRegression(max_iter=1000,\n",
              "                                                                 random_state=1,\n",
              "                                                                 solver='saga',\n",
              "                                                                 tol=0.001))]),\n",
              "                   param_distributions={'LR__C': array([ 1.,  2.,  3.,  4.,  5.,  6.,  7.,  8.,  9., 10.]),\n",
              "                                        'LR__l1_ratio': array([0.001   , 0.250725, 0.50045 , 0.750175, 0.9999  ]),\n",
              "                                        'LR__penalty': ['l1', 'l2',\n",
              "                                                        'elasticnet', 'none']},\n",
              "                   scoring='accuracy')"
            ],
            "text/html": [
              "<style>#sk-container-id-2 {color: black;background-color: white;}#sk-container-id-2 pre{padding: 0;}#sk-container-id-2 div.sk-toggleable {background-color: white;}#sk-container-id-2 label.sk-toggleable__label {cursor: pointer;display: block;width: 100%;margin-bottom: 0;padding: 0.3em;box-sizing: border-box;text-align: center;}#sk-container-id-2 label.sk-toggleable__label-arrow:before {content: \"▸\";float: left;margin-right: 0.25em;color: #696969;}#sk-container-id-2 label.sk-toggleable__label-arrow:hover:before {color: black;}#sk-container-id-2 div.sk-estimator:hover label.sk-toggleable__label-arrow:before {color: black;}#sk-container-id-2 div.sk-toggleable__content {max-height: 0;max-width: 0;overflow: hidden;text-align: left;background-color: #f0f8ff;}#sk-container-id-2 div.sk-toggleable__content pre {margin: 0.2em;color: black;border-radius: 0.25em;background-color: #f0f8ff;}#sk-container-id-2 input.sk-toggleable__control:checked~div.sk-toggleable__content {max-height: 200px;max-width: 100%;overflow: auto;}#sk-container-id-2 input.sk-toggleable__control:checked~label.sk-toggleable__label-arrow:before {content: \"▾\";}#sk-container-id-2 div.sk-estimator input.sk-toggleable__control:checked~label.sk-toggleable__label {background-color: #d4ebff;}#sk-container-id-2 div.sk-label input.sk-toggleable__control:checked~label.sk-toggleable__label {background-color: #d4ebff;}#sk-container-id-2 input.sk-hidden--visually {border: 0;clip: rect(1px 1px 1px 1px);clip: rect(1px, 1px, 1px, 1px);height: 1px;margin: -1px;overflow: hidden;padding: 0;position: absolute;width: 1px;}#sk-container-id-2 div.sk-estimator {font-family: monospace;background-color: #f0f8ff;border: 1px dotted black;border-radius: 0.25em;box-sizing: border-box;margin-bottom: 0.5em;}#sk-container-id-2 div.sk-estimator:hover {background-color: #d4ebff;}#sk-container-id-2 div.sk-parallel-item::after {content: \"\";width: 100%;border-bottom: 1px solid gray;flex-grow: 1;}#sk-container-id-2 div.sk-label:hover label.sk-toggleable__label {background-color: #d4ebff;}#sk-container-id-2 div.sk-serial::before {content: \"\";position: absolute;border-left: 1px solid gray;box-sizing: border-box;top: 0;bottom: 0;left: 50%;z-index: 0;}#sk-container-id-2 div.sk-serial {display: flex;flex-direction: column;align-items: center;background-color: white;padding-right: 0.2em;padding-left: 0.2em;position: relative;}#sk-container-id-2 div.sk-item {position: relative;z-index: 1;}#sk-container-id-2 div.sk-parallel {display: flex;align-items: stretch;justify-content: center;background-color: white;position: relative;}#sk-container-id-2 div.sk-item::before, #sk-container-id-2 div.sk-parallel-item::before {content: \"\";position: absolute;border-left: 1px solid gray;box-sizing: border-box;top: 0;bottom: 0;left: 50%;z-index: -1;}#sk-container-id-2 div.sk-parallel-item {display: flex;flex-direction: column;z-index: 1;position: relative;background-color: white;}#sk-container-id-2 div.sk-parallel-item:first-child::after {align-self: flex-end;width: 50%;}#sk-container-id-2 div.sk-parallel-item:last-child::after {align-self: flex-start;width: 50%;}#sk-container-id-2 div.sk-parallel-item:only-child::after {width: 0;}#sk-container-id-2 div.sk-dashed-wrapped {border: 1px dashed gray;margin: 0 0.4em 0.5em 0.4em;box-sizing: border-box;padding-bottom: 0.4em;background-color: white;}#sk-container-id-2 div.sk-label label {font-family: monospace;font-weight: bold;display: inline-block;line-height: 1.2em;}#sk-container-id-2 div.sk-label-container {text-align: center;}#sk-container-id-2 div.sk-container {/* jupyter's `normalize.less` sets `[hidden] { display: none; }` but bootstrap.min.css set `[hidden] { display: none !important; }` so we also need the `!important` here to be able to override the default hidden behavior on the sphinx rendered scikit-learn.org. See: https://github.com/scikit-learn/scikit-learn/issues/21755 */display: inline-block !important;position: relative;}#sk-container-id-2 div.sk-text-repr-fallback {display: none;}</style><div id=\"sk-container-id-2\" class=\"sk-top-container\"><div class=\"sk-text-repr-fallback\"><pre>RandomizedSearchCV(cv=StratifiedKFold(n_splits=5, random_state=None, shuffle=False),\n",
              "                   estimator=Pipeline(steps=[(&#x27;ss&#x27;, StandardScaler()),\n",
              "                                             (&#x27;LR&#x27;,\n",
              "                                              LogisticRegression(max_iter=1000,\n",
              "                                                                 random_state=1,\n",
              "                                                                 solver=&#x27;saga&#x27;,\n",
              "                                                                 tol=0.001))]),\n",
              "                   param_distributions={&#x27;LR__C&#x27;: array([ 1.,  2.,  3.,  4.,  5.,  6.,  7.,  8.,  9., 10.]),\n",
              "                                        &#x27;LR__l1_ratio&#x27;: array([0.001   , 0.250725, 0.50045 , 0.750175, 0.9999  ]),\n",
              "                                        &#x27;LR__penalty&#x27;: [&#x27;l1&#x27;, &#x27;l2&#x27;,\n",
              "                                                        &#x27;elasticnet&#x27;, &#x27;none&#x27;]},\n",
              "                   scoring=&#x27;accuracy&#x27;)</pre><b>In a Jupyter environment, please rerun this cell to show the HTML representation or trust the notebook. <br />On GitHub, the HTML representation is unable to render, please try loading this page with nbviewer.org.</b></div><div class=\"sk-container\" hidden><div class=\"sk-item sk-dashed-wrapped\"><div class=\"sk-label-container\"><div class=\"sk-label sk-toggleable\"><input class=\"sk-toggleable__control sk-hidden--visually\" id=\"sk-estimator-id-5\" type=\"checkbox\" ><label for=\"sk-estimator-id-5\" class=\"sk-toggleable__label sk-toggleable__label-arrow\">RandomizedSearchCV</label><div class=\"sk-toggleable__content\"><pre>RandomizedSearchCV(cv=StratifiedKFold(n_splits=5, random_state=None, shuffle=False),\n",
              "                   estimator=Pipeline(steps=[(&#x27;ss&#x27;, StandardScaler()),\n",
              "                                             (&#x27;LR&#x27;,\n",
              "                                              LogisticRegression(max_iter=1000,\n",
              "                                                                 random_state=1,\n",
              "                                                                 solver=&#x27;saga&#x27;,\n",
              "                                                                 tol=0.001))]),\n",
              "                   param_distributions={&#x27;LR__C&#x27;: array([ 1.,  2.,  3.,  4.,  5.,  6.,  7.,  8.,  9., 10.]),\n",
              "                                        &#x27;LR__l1_ratio&#x27;: array([0.001   , 0.250725, 0.50045 , 0.750175, 0.9999  ]),\n",
              "                                        &#x27;LR__penalty&#x27;: [&#x27;l1&#x27;, &#x27;l2&#x27;,\n",
              "                                                        &#x27;elasticnet&#x27;, &#x27;none&#x27;]},\n",
              "                   scoring=&#x27;accuracy&#x27;)</pre></div></div></div><div class=\"sk-parallel\"><div class=\"sk-parallel-item\"><div class=\"sk-item\"><div class=\"sk-label-container\"><div class=\"sk-label sk-toggleable\"><input class=\"sk-toggleable__control sk-hidden--visually\" id=\"sk-estimator-id-6\" type=\"checkbox\" ><label for=\"sk-estimator-id-6\" class=\"sk-toggleable__label sk-toggleable__label-arrow\">estimator: Pipeline</label><div class=\"sk-toggleable__content\"><pre>Pipeline(steps=[(&#x27;ss&#x27;, StandardScaler()),\n",
              "                (&#x27;LR&#x27;,\n",
              "                 LogisticRegression(max_iter=1000, random_state=1,\n",
              "                                    solver=&#x27;saga&#x27;, tol=0.001))])</pre></div></div></div><div class=\"sk-serial\"><div class=\"sk-item\"><div class=\"sk-serial\"><div class=\"sk-item\"><div class=\"sk-estimator sk-toggleable\"><input class=\"sk-toggleable__control sk-hidden--visually\" id=\"sk-estimator-id-7\" type=\"checkbox\" ><label for=\"sk-estimator-id-7\" class=\"sk-toggleable__label sk-toggleable__label-arrow\">StandardScaler</label><div class=\"sk-toggleable__content\"><pre>StandardScaler()</pre></div></div></div><div class=\"sk-item\"><div class=\"sk-estimator sk-toggleable\"><input class=\"sk-toggleable__control sk-hidden--visually\" id=\"sk-estimator-id-8\" type=\"checkbox\" ><label for=\"sk-estimator-id-8\" class=\"sk-toggleable__label sk-toggleable__label-arrow\">LogisticRegression</label><div class=\"sk-toggleable__content\"><pre>LogisticRegression(max_iter=1000, random_state=1, solver=&#x27;saga&#x27;, tol=0.001)</pre></div></div></div></div></div></div></div></div></div></div></div></div>"
            ]
          },
          "metadata": {},
          "execution_count": 56
        }
      ]
    },
    {
      "cell_type": "code",
      "source": [
        "rcv.best_params_"
      ],
      "metadata": {
        "colab": {
          "base_uri": "https://localhost:8080/"
        },
        "id": "OX0WSr09ysPS",
        "outputId": "186b3e51-63b0-4409-9ce2-4cd2baf9514b"
      },
      "execution_count": 57,
      "outputs": [
        {
          "output_type": "execute_result",
          "data": {
            "text/plain": [
              "{'LR__penalty': 'elasticnet', 'LR__l1_ratio': 0.750175, 'LR__C': 9.0}"
            ]
          },
          "metadata": {},
          "execution_count": 57
        }
      ]
    },
    {
      "cell_type": "code",
      "source": [
        "Lrcacc = rcv.best_score_\n",
        "Lrcacc"
      ],
      "metadata": {
        "colab": {
          "base_uri": "https://localhost:8080/"
        },
        "id": "FZumi4hp1V7L",
        "outputId": "3d44946d-25ff-47c6-a726-c334a2190a59"
      },
      "execution_count": 61,
      "outputs": [
        {
          "output_type": "execute_result",
          "data": {
            "text/plain": [
              "0.8762000000000001"
            ]
          },
          "metadata": {},
          "execution_count": 61
        }
      ]
    },
    {
      "cell_type": "markdown",
      "source": [
        "Comparing models"
      ],
      "metadata": {
        "id": "da7wc13W1pM6"
      }
    },
    {
      "cell_type": "code",
      "source": [
        "acc_scores = [['KNN Classifier', knnacc], ['LogisticRegression', lracc],\n",
        "              ['Xgboost classifier', xgbacc], ['DecisionTree', dtacc],\n",
        "              ['RandomForest', rfacc], ['LogisticRegressionTuning', Lrcacc]]\n",
        "\n",
        "dataframe = pd.DataFrame(acc_scores, columns = ['models', 'accuracy_scores'] )\n",
        "dataframe"
      ],
      "metadata": {
        "colab": {
          "base_uri": "https://localhost:8080/",
          "height": 237
        },
        "id": "wVEUeA0C1Ywu",
        "outputId": "64d0afde-7364-45d0-cc74-094496fedfde"
      },
      "execution_count": 62,
      "outputs": [
        {
          "output_type": "execute_result",
          "data": {
            "text/plain": [
              "                     models  accuracy_scores\n",
              "0            KNN Classifier           0.8540\n",
              "1        LogisticRegression           0.8810\n",
              "2        Xgboost classifier           0.8590\n",
              "3              DecisionTree           0.8110\n",
              "4              RandomForest           0.8730\n",
              "5  LogisticRegressionTuning           0.8762"
            ],
            "text/html": [
              "\n",
              "  <div id=\"df-a91a4486-6fd3-4098-b6bb-768ce9a95064\" class=\"colab-df-container\">\n",
              "    <div>\n",
              "<style scoped>\n",
              "    .dataframe tbody tr th:only-of-type {\n",
              "        vertical-align: middle;\n",
              "    }\n",
              "\n",
              "    .dataframe tbody tr th {\n",
              "        vertical-align: top;\n",
              "    }\n",
              "\n",
              "    .dataframe thead th {\n",
              "        text-align: right;\n",
              "    }\n",
              "</style>\n",
              "<table border=\"1\" class=\"dataframe\">\n",
              "  <thead>\n",
              "    <tr style=\"text-align: right;\">\n",
              "      <th></th>\n",
              "      <th>models</th>\n",
              "      <th>accuracy_scores</th>\n",
              "    </tr>\n",
              "  </thead>\n",
              "  <tbody>\n",
              "    <tr>\n",
              "      <th>0</th>\n",
              "      <td>KNN Classifier</td>\n",
              "      <td>0.8540</td>\n",
              "    </tr>\n",
              "    <tr>\n",
              "      <th>1</th>\n",
              "      <td>LogisticRegression</td>\n",
              "      <td>0.8810</td>\n",
              "    </tr>\n",
              "    <tr>\n",
              "      <th>2</th>\n",
              "      <td>Xgboost classifier</td>\n",
              "      <td>0.8590</td>\n",
              "    </tr>\n",
              "    <tr>\n",
              "      <th>3</th>\n",
              "      <td>DecisionTree</td>\n",
              "      <td>0.8110</td>\n",
              "    </tr>\n",
              "    <tr>\n",
              "      <th>4</th>\n",
              "      <td>RandomForest</td>\n",
              "      <td>0.8730</td>\n",
              "    </tr>\n",
              "    <tr>\n",
              "      <th>5</th>\n",
              "      <td>LogisticRegressionTuning</td>\n",
              "      <td>0.8762</td>\n",
              "    </tr>\n",
              "  </tbody>\n",
              "</table>\n",
              "</div>\n",
              "    <div class=\"colab-df-buttons\">\n",
              "\n",
              "  <div class=\"colab-df-container\">\n",
              "    <button class=\"colab-df-convert\" onclick=\"convertToInteractive('df-a91a4486-6fd3-4098-b6bb-768ce9a95064')\"\n",
              "            title=\"Convert this dataframe to an interactive table.\"\n",
              "            style=\"display:none;\">\n",
              "\n",
              "  <svg xmlns=\"http://www.w3.org/2000/svg\" height=\"24px\" viewBox=\"0 -960 960 960\">\n",
              "    <path d=\"M120-120v-720h720v720H120Zm60-500h600v-160H180v160Zm220 220h160v-160H400v160Zm0 220h160v-160H400v160ZM180-400h160v-160H180v160Zm440 0h160v-160H620v160ZM180-180h160v-160H180v160Zm440 0h160v-160H620v160Z\"/>\n",
              "  </svg>\n",
              "    </button>\n",
              "\n",
              "  <style>\n",
              "    .colab-df-container {\n",
              "      display:flex;\n",
              "      gap: 12px;\n",
              "    }\n",
              "\n",
              "    .colab-df-convert {\n",
              "      background-color: #E8F0FE;\n",
              "      border: none;\n",
              "      border-radius: 50%;\n",
              "      cursor: pointer;\n",
              "      display: none;\n",
              "      fill: #1967D2;\n",
              "      height: 32px;\n",
              "      padding: 0 0 0 0;\n",
              "      width: 32px;\n",
              "    }\n",
              "\n",
              "    .colab-df-convert:hover {\n",
              "      background-color: #E2EBFA;\n",
              "      box-shadow: 0px 1px 2px rgba(60, 64, 67, 0.3), 0px 1px 3px 1px rgba(60, 64, 67, 0.15);\n",
              "      fill: #174EA6;\n",
              "    }\n",
              "\n",
              "    .colab-df-buttons div {\n",
              "      margin-bottom: 4px;\n",
              "    }\n",
              "\n",
              "    [theme=dark] .colab-df-convert {\n",
              "      background-color: #3B4455;\n",
              "      fill: #D2E3FC;\n",
              "    }\n",
              "\n",
              "    [theme=dark] .colab-df-convert:hover {\n",
              "      background-color: #434B5C;\n",
              "      box-shadow: 0px 1px 3px 1px rgba(0, 0, 0, 0.15);\n",
              "      filter: drop-shadow(0px 1px 2px rgba(0, 0, 0, 0.3));\n",
              "      fill: #FFFFFF;\n",
              "    }\n",
              "  </style>\n",
              "\n",
              "    <script>\n",
              "      const buttonEl =\n",
              "        document.querySelector('#df-a91a4486-6fd3-4098-b6bb-768ce9a95064 button.colab-df-convert');\n",
              "      buttonEl.style.display =\n",
              "        google.colab.kernel.accessAllowed ? 'block' : 'none';\n",
              "\n",
              "      async function convertToInteractive(key) {\n",
              "        const element = document.querySelector('#df-a91a4486-6fd3-4098-b6bb-768ce9a95064');\n",
              "        const dataTable =\n",
              "          await google.colab.kernel.invokeFunction('convertToInteractive',\n",
              "                                                    [key], {});\n",
              "        if (!dataTable) return;\n",
              "\n",
              "        const docLinkHtml = 'Like what you see? Visit the ' +\n",
              "          '<a target=\"_blank\" href=https://colab.research.google.com/notebooks/data_table.ipynb>data table notebook</a>'\n",
              "          + ' to learn more about interactive tables.';\n",
              "        element.innerHTML = '';\n",
              "        dataTable['output_type'] = 'display_data';\n",
              "        await google.colab.output.renderOutput(dataTable, element);\n",
              "        const docLink = document.createElement('div');\n",
              "        docLink.innerHTML = docLinkHtml;\n",
              "        element.appendChild(docLink);\n",
              "      }\n",
              "    </script>\n",
              "  </div>\n",
              "\n",
              "\n",
              "<div id=\"df-42f63519-113d-4b34-8956-3dd360b942d8\">\n",
              "  <button class=\"colab-df-quickchart\" onclick=\"quickchart('df-42f63519-113d-4b34-8956-3dd360b942d8')\"\n",
              "            title=\"Suggest charts\"\n",
              "            style=\"display:none;\">\n",
              "\n",
              "<svg xmlns=\"http://www.w3.org/2000/svg\" height=\"24px\"viewBox=\"0 0 24 24\"\n",
              "     width=\"24px\">\n",
              "    <g>\n",
              "        <path d=\"M19 3H5c-1.1 0-2 .9-2 2v14c0 1.1.9 2 2 2h14c1.1 0 2-.9 2-2V5c0-1.1-.9-2-2-2zM9 17H7v-7h2v7zm4 0h-2V7h2v10zm4 0h-2v-4h2v4z\"/>\n",
              "    </g>\n",
              "</svg>\n",
              "  </button>\n",
              "\n",
              "<style>\n",
              "  .colab-df-quickchart {\n",
              "      --bg-color: #E8F0FE;\n",
              "      --fill-color: #1967D2;\n",
              "      --hover-bg-color: #E2EBFA;\n",
              "      --hover-fill-color: #174EA6;\n",
              "      --disabled-fill-color: #AAA;\n",
              "      --disabled-bg-color: #DDD;\n",
              "  }\n",
              "\n",
              "  [theme=dark] .colab-df-quickchart {\n",
              "      --bg-color: #3B4455;\n",
              "      --fill-color: #D2E3FC;\n",
              "      --hover-bg-color: #434B5C;\n",
              "      --hover-fill-color: #FFFFFF;\n",
              "      --disabled-bg-color: #3B4455;\n",
              "      --disabled-fill-color: #666;\n",
              "  }\n",
              "\n",
              "  .colab-df-quickchart {\n",
              "    background-color: var(--bg-color);\n",
              "    border: none;\n",
              "    border-radius: 50%;\n",
              "    cursor: pointer;\n",
              "    display: none;\n",
              "    fill: var(--fill-color);\n",
              "    height: 32px;\n",
              "    padding: 0;\n",
              "    width: 32px;\n",
              "  }\n",
              "\n",
              "  .colab-df-quickchart:hover {\n",
              "    background-color: var(--hover-bg-color);\n",
              "    box-shadow: 0 1px 2px rgba(60, 64, 67, 0.3), 0 1px 3px 1px rgba(60, 64, 67, 0.15);\n",
              "    fill: var(--button-hover-fill-color);\n",
              "  }\n",
              "\n",
              "  .colab-df-quickchart-complete:disabled,\n",
              "  .colab-df-quickchart-complete:disabled:hover {\n",
              "    background-color: var(--disabled-bg-color);\n",
              "    fill: var(--disabled-fill-color);\n",
              "    box-shadow: none;\n",
              "  }\n",
              "\n",
              "  .colab-df-spinner {\n",
              "    border: 2px solid var(--fill-color);\n",
              "    border-color: transparent;\n",
              "    border-bottom-color: var(--fill-color);\n",
              "    animation:\n",
              "      spin 1s steps(1) infinite;\n",
              "  }\n",
              "\n",
              "  @keyframes spin {\n",
              "    0% {\n",
              "      border-color: transparent;\n",
              "      border-bottom-color: var(--fill-color);\n",
              "      border-left-color: var(--fill-color);\n",
              "    }\n",
              "    20% {\n",
              "      border-color: transparent;\n",
              "      border-left-color: var(--fill-color);\n",
              "      border-top-color: var(--fill-color);\n",
              "    }\n",
              "    30% {\n",
              "      border-color: transparent;\n",
              "      border-left-color: var(--fill-color);\n",
              "      border-top-color: var(--fill-color);\n",
              "      border-right-color: var(--fill-color);\n",
              "    }\n",
              "    40% {\n",
              "      border-color: transparent;\n",
              "      border-right-color: var(--fill-color);\n",
              "      border-top-color: var(--fill-color);\n",
              "    }\n",
              "    60% {\n",
              "      border-color: transparent;\n",
              "      border-right-color: var(--fill-color);\n",
              "    }\n",
              "    80% {\n",
              "      border-color: transparent;\n",
              "      border-right-color: var(--fill-color);\n",
              "      border-bottom-color: var(--fill-color);\n",
              "    }\n",
              "    90% {\n",
              "      border-color: transparent;\n",
              "      border-bottom-color: var(--fill-color);\n",
              "    }\n",
              "  }\n",
              "</style>\n",
              "\n",
              "  <script>\n",
              "    async function quickchart(key) {\n",
              "      const quickchartButtonEl =\n",
              "        document.querySelector('#' + key + ' button');\n",
              "      quickchartButtonEl.disabled = true;  // To prevent multiple clicks.\n",
              "      quickchartButtonEl.classList.add('colab-df-spinner');\n",
              "      try {\n",
              "        const charts = await google.colab.kernel.invokeFunction(\n",
              "            'suggestCharts', [key], {});\n",
              "      } catch (error) {\n",
              "        console.error('Error during call to suggestCharts:', error);\n",
              "      }\n",
              "      quickchartButtonEl.classList.remove('colab-df-spinner');\n",
              "      quickchartButtonEl.classList.add('colab-df-quickchart-complete');\n",
              "    }\n",
              "    (() => {\n",
              "      let quickchartButtonEl =\n",
              "        document.querySelector('#df-42f63519-113d-4b34-8956-3dd360b942d8 button');\n",
              "      quickchartButtonEl.style.display =\n",
              "        google.colab.kernel.accessAllowed ? 'block' : 'none';\n",
              "    })();\n",
              "  </script>\n",
              "</div>\n",
              "    </div>\n",
              "  </div>\n"
            ]
          },
          "metadata": {},
          "execution_count": 62
        }
      ]
    },
    {
      "cell_type": "markdown",
      "source": [
        "Logistic Regression model predicts better than other models"
      ],
      "metadata": {
        "id": "cbPTG2mf3TiL"
      }
    },
    {
      "cell_type": "markdown",
      "source": [
        "Save the best model"
      ],
      "metadata": {
        "id": "M4A9rLqF3YKZ"
      }
    },
    {
      "cell_type": "code",
      "source": [
        "pickle.dump(lr, open('insurancelr.pkl', 'wb'))"
      ],
      "metadata": {
        "id": "sxWgaLr03bgG"
      },
      "execution_count": 63,
      "outputs": []
    },
    {
      "cell_type": "code",
      "source": [],
      "metadata": {
        "id": "Eug_FIDj3x60"
      },
      "execution_count": null,
      "outputs": []
    }
  ]
}